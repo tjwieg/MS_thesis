{
 "cells": [
  {
   "cell_type": "code",
   "execution_count": 7,
   "metadata": {},
   "outputs": [],
   "source": [
    "import datetime\n",
    "\n",
    "apalis = {\n",
    "    # really Tractor02\n",
    "    \"Tractor01\": [\"/home/tjw/Downloads/apalis24/Tractor02-gps01.csv\",\n",
    "                  \"/home/tjw/Downloads/apalis24/Tractor02-gps02.csv\"],\n",
    "    \n",
    "    # really Tractor03\n",
    "    \"Tractor02\": [\"/home/tjw/Downloads/apalis24/Tractor03-gps01.csv\",\n",
    "                  \"/home/tjw/Downloads/apalis24/Tractor03-gps02.csv\"],\n",
    "    \n",
    "    # really Tractor04\n",
    "    \"Tractor03\": [\"/home/tjw/Downloads/apalis24/Tractor04-gps01.csv\",\n",
    "                  \"/home/tjw/Downloads/apalis24/Tractor04-gps02.csv\",\n",
    "                  \"/home/tjw/Downloads/apalis24/Tractor04-gps03.csv\"]\n",
    "}\n",
    "\n",
    "gopro = {\n",
    "    \"Tractor01\": [\"/home/tjw/Documents/gopro24/Tractor02\"], # really Tractor02\n",
    "    \"Tractor02\": [\"/home/tjw/Documents/gopro24/Tractor03\"], # really Tractor03\n",
    "    \"Tractor03\": [\"/home/tjw/Documents/gopro24/Tractor04\"]  # really Tractor04\n",
    "}\n",
    "\n",
    "canbus = {\n",
    "    \"apalis1\": \"/home/tjw/Documents/apalis24/2024_apalis1.sql\",\n",
    "    \"apalis2\": \"/home/tjw/Documents/apalis24/2024_apalis2.sql\",\n",
    "    \"apalis3\": \"/home/tjw/Documents/apalis24/2024_apalis3.sql\",\n",
    "    \"apalis4\": \"/home/tjw/Documents/apalis24/2024_apalis4.sql\"\n",
    "}\n",
    "\n",
    "isoblue = {\n",
    "    # really Tractor02\n",
    "    \"Tractor01\": {\n",
    "        \"apalis1\": {\"start\": datetime.datetime(2024,1,1),\n",
    "                    \"end\": datetime.datetime(2024,6,17)},\n",
    "        \"apalis3\": {\"start\": datetime.datetime(2024,6,17),\n",
    "                    \"end\": datetime.datetime(2024,10,31)}\n",
    "    },\n",
    "\n",
    "    # really Tractor03\n",
    "    \"Tractor02\": {\n",
    "        \"apalis2\": {\"start\": datetime.datetime(2024,1,1),\n",
    "                    \"end\": datetime.datetime(2024,8,22)},\n",
    "        \"apalis4\": {\"start\": datetime.datetime(2024,1,1),\n",
    "                    \"end\": datetime.datetime(2024,10,31)}\n",
    "    },\n",
    "\n",
    "    # really Tractor04\n",
    "    \"Tractor03\": {\n",
    "        \"apalis3\": {\"start\": datetime.datetime(2024,1,1),\n",
    "                    \"end\": datetime.datetime(2024,6,17)},\n",
    "        \"apalis1\": {\"start\": datetime.datetime(2024,6,17),\n",
    "                    \"end\": datetime.datetime(2024,8,22)},\n",
    "        \"apalis2\": {\"start\": datetime.datetime(2024,8,22),\n",
    "                    \"end\": datetime.datetime(2024,10,31)}\n",
    "    }\n",
    "}\n",
    "\n",
    "maintenance = [ # all the dates of data swaps\n",
    "    datetime.datetime(2024, 5, 5),\n",
    "    datetime.datetime(2024, 5,19),\n",
    "    datetime.datetime(2024, 5,28),\n",
    "    datetime.datetime(2024, 6, 5),\n",
    "    datetime.datetime(2024, 6,10),\n",
    "    datetime.datetime(2024, 6,17),\n",
    "    datetime.datetime(2024, 6,28),\n",
    "    datetime.datetime(2024, 7,17),\n",
    "    datetime.datetime(2024, 7,29),\n",
    "    datetime.datetime(2024, 8,22),\n",
    "    datetime.datetime(2024, 9, 1),\n",
    "    datetime.datetime(2024, 9, 9),\n",
    "    datetime.datetime(2024, 9,26),\n",
    "    datetime.datetime(2024,10,17)\n",
    "]\n"
   ]
  },
  {
   "cell_type": "code",
   "execution_count": 8,
   "metadata": {},
   "outputs": [],
   "source": [
    "def stamp(dt):\n",
    "    # minute = dt.minute - (dt.minute % 10)\n",
    "    # return f\"{dt.date()}_{dt.hour:02}:{minute:02}\"\n",
    "    return f\"{dt.date()}_{dt.hour:02}:{dt.minute:02}\"\n",
    "\n",
    "def unstamp(st):\n",
    "    date, time = st.split(\"_\")\n",
    "    yy,mm,dd = date.split(\"-\")\n",
    "    hh,mn = time.split(\":\")\n",
    "    #hh,mn = time, 0\n",
    "    return datetime.datetime(\n",
    "        year=int(yy), month=int(mm), day=int(dd),\n",
    "        hour=int(hh), minute=int(mn)\n",
    "    )"
   ]
  },
  {
   "cell_type": "code",
   "execution_count": 10,
   "metadata": {},
   "outputs": [],
   "source": [
    "# Get line totals for DB dumps\n",
    "import subprocess\n",
    "\n",
    "line_total = {}\n",
    "\n",
    "for db in canbus:\n",
    "    line_total[db] = int(subprocess.check_output([\"wc\", \"-l\", canbus[db]]).decode().split()[0])\n"
   ]
  },
  {
   "cell_type": "code",
   "execution_count": 11,
   "metadata": {},
   "outputs": [],
   "source": [
    "def roll_avg(frame, new):\n",
    "    N = frame[1] + 1\n",
    "    output = frame[0]*(1 - 1/N) + new/N\n",
    "    return output, N\n"
   ]
  },
  {
   "cell_type": "code",
   "execution_count": 12,
   "metadata": {},
   "outputs": [
    {
     "name": "stdout",
     "output_type": "stream",
     "text": [
      "[Tractor01/apalis1] Finished with apalis1 in 173s                                                  \n",
      "[Tractor01/apalis3] Finished with apalis3 in 92s                                                  \n",
      "**[Tractor01] Found a total of 6267 speeds\n",
      "[Tractor02/apalis2] Finished with apalis2 in 166s                                                  \n",
      "[Tractor02/apalis4] Finished with apalis4 in 19s                                                  \n",
      "**[Tractor02] Found a total of 1007 speeds\n",
      "[Tractor03/apalis3] Finished with apalis3 in 51s                                                  \n",
      "[Tractor03/apalis1] Finished with apalis1 in 132s                                                  \n",
      "[Tractor03/apalis2] Finished with apalis2 in 453s                                                  \n",
      "**[Tractor03] Found a total of 11693 speeds\n"
     ]
    }
   ],
   "source": [
    "# Read Isoblue CAN data\n",
    "import time\n",
    "#MAGIC = 0.00125 # scaling factor for CAN bus ground speed to get (kph?)\n",
    "MAGIC = 0.0025\n",
    "BAR_W = 49\n",
    "\n",
    "c_data = {}\n",
    "\n",
    "for tractor in isoblue:\n",
    "    c_data[tractor] = {\"speed\":{}, \"stamps\":[]}\n",
    "\n",
    "    for db in isoblue[tractor]:\n",
    "        stime = time.time()\n",
    "        start = isoblue[tractor][db][\"start\"]\n",
    "        end = isoblue[tractor][db][\"end\"]\n",
    "\n",
    "        with open(canbus[db]) as file:\n",
    "            i = 0\n",
    "            for line in file:\n",
    "                if \"can0\" in line:\n",
    "                    l = line.split(\"\\t\")\n",
    "                    arb = l[2]\n",
    "                    if arb[2:6] == \"FEF1\": # vehicle ground speed PGN\n",
    "                        \n",
    "                        # Get datetime of line\n",
    "                        timestamp = l[0].split(\".\")[0]\n",
    "                        if \"+\" in timestamp:\n",
    "                            timestamp = timestamp.split(\"+\")[0]\n",
    "                        dt = parser.isoparse(timestamp)\n",
    "                        \n",
    "                        # Check that line is within parameters of tractor\n",
    "                        if dt >= start and dt < end:\n",
    "                            hex_data = l[3]\n",
    "                            speed = MAGIC * (256*int(hex_data[4:6], 16) + \n",
    "                                             int(hex_data[6:8], 16))\n",
    "                            \n",
    "                            # Save data to output\n",
    "                            st = stamp(dt)\n",
    "                            if st not in c_data[tractor][\"speed\"].keys():\n",
    "                                c_data[tractor][\"speed\"][st] = (speed, 1)\n",
    "                            else:\n",
    "                                c_data[tractor][\"speed\"][st] = roll_avg(\n",
    "                                    c_data[tractor][\"speed\"][st], speed\n",
    "                                )\n",
    "                            \n",
    "                            if st not in c_data[tractor][\"stamps\"]:\n",
    "                                c_data[tractor][\"stamps\"].append(st)\n",
    "            \n",
    "                # Print progress\n",
    "                i += 1\n",
    "                if i % 250_000 == 0:\n",
    "                    y = time.time() - stime\n",
    "                    x = i/line_total[db]\n",
    "                    pct = round(BAR_W*x)\n",
    "                    bar = \"=\"*pct\n",
    "                    space = \" \"*(BAR_W-pct)\n",
    "                    print(f\"[{tractor}/{db}]: |{bar}>{space}| ~{round((y/x)-y)}s remain...   \", end=\"\\r\")\n",
    "        print(f\"[{tractor}/{db}] Finished with {db} in {round(time.time() - stime)}s {' '*BAR_W}\")\n",
    "    print(f\"**[{tractor}] Found a total of {len(c_data[tractor]['speed'])} speeds\")\n"
   ]
  },
  {
   "cell_type": "code",
   "execution_count": null,
   "metadata": {},
   "outputs": [],
   "source": [
    "# Read Isoblue GPS data\n",
    "from dateutil import parser\n",
    "\n",
    "a_data = {}\n",
    "SKIP = 5\n",
    "MIN_SPEED = 2 # cutoff for ground speed needed to say they were actually working\n",
    "\n",
    "for tractor in apalis:\n",
    "    a_data[tractor] = {\"datetime\":[], \"longlat\":[], \"stamps\": [], \"speed\": {}}\n",
    "    for csv in apalis[tractor]:\n",
    "        with open(csv) as file:\n",
    "            i = 0\n",
    "            for line in file.readlines()[1:]:\n",
    "                i += 1\n",
    "                if i % SKIP == 0:\n",
    "                    # Parse data from CSV\n",
    "                    time, lat, lng = line.split(\",\")\n",
    "                    lat = float(lat)\n",
    "                    lng = float(lng.rstrip())\n",
    "                    time = parser.isoparse(time)\n",
    "                    \n",
    "                    # Add data to dict\n",
    "                    a_data[tractor][\"datetime\"].append(time)\n",
    "                    a_data[tractor][\"longlat\"].append((lng, lat))\n",
    "                    st = stamp(time)\n",
    "                    \n",
    "                    if st not in a_data[tractor][\"stamps\"]:\n",
    "                        if c_data[tractor][\"speed\"][st][0] > MIN_SPEED:\n",
    "                            a_data[tractor][\"stamps\"].append(st)\n",
    "                        else:\n",
    "                            pass # don't count periods without movement\n"
   ]
  },
  {
   "cell_type": "code",
   "execution_count": 13,
   "metadata": {},
   "outputs": [],
   "source": [
    "def goproParse(jsondata):\n",
    "    gps = []\n",
    "    times = []\n",
    "    stamps = []\n",
    "    for frame in jsondata:\n",
    "        time = parser.isoparse(frame[\"gps_time\"])\n",
    "        if time.year == 2024:\n",
    "            times.append(time)\n",
    "            stamps.append(stamp(time))\n",
    "            lon = frame[\"cam_gps\"][\"lon\"]\n",
    "            lat = frame[\"cam_gps\"][\"lat\"]\n",
    "            gps.append((lon,lat))\n",
    "    return (times, gps, stamps)"
   ]
  },
  {
   "cell_type": "code",
   "execution_count": 14,
   "metadata": {},
   "outputs": [],
   "source": [
    "import json, os\n",
    "g_data = {}\n",
    "for tractor in gopro:\n",
    "    g_data[tractor] = {\"datetime\":[], \"longlat\":[], \"stamps\":[]}\n",
    "    for folder in gopro[tractor]:\n",
    "        for file in os.listdir(folder):\n",
    "            if \"metadata\" not in file:\n",
    "                with open(os.path.join(folder, file)) as file:\n",
    "                    times, gps, stamps = goproParse(json.load(file))\n",
    "                    g_data[tractor][\"longlat\"] += (gps)\n",
    "                    g_data[tractor][\"datetime\"] += times\n",
    "\n",
    "                    for st in stamps:\n",
    "                        if st not in g_data[tractor][\"stamps\"]:\n",
    "                            g_data[tractor][\"stamps\"].append(st)\n"
   ]
  },
  {
   "cell_type": "code",
   "execution_count": 15,
   "metadata": {},
   "outputs": [],
   "source": [
    "def same(x1, x2): # return intersection of two lists\n",
    "    output = []\n",
    "    for x in x1:\n",
    "        if x in x2:\n",
    "            output.append(x)\n",
    "    return output\n",
    "\n",
    "def inany(x1, x2): # return union of two lists\n",
    "    output = [x for x in x1]\n",
    "    for x in x2:\n",
    "        if x not in output:\n",
    "            output.append(x)\n",
    "    return output\n"
   ]
  },
  {
   "cell_type": "code",
   "execution_count": 16,
   "metadata": {},
   "outputs": [
    {
     "name": "stdout",
     "output_type": "stream",
     "text": [
      "['Tractor01', 'Tractor02', 'Tractor03']\n"
     ]
    }
   ],
   "source": [
    "tractors = same(gopro, apalis)\n",
    "\n",
    "print(tractors)"
   ]
  },
  {
   "cell_type": "code",
   "execution_count": 17,
   "metadata": {},
   "outputs": [],
   "source": [
    "u_data = {}\n",
    "\n",
    "for tractor in tractors:\n",
    "    u_data[tractor] = {}\n",
    "    u_data[tractor][\"stamps\"] = same(a_data[tractor][\"stamps\"], g_data[tractor][\"stamps\"])\n",
    "    u_data[tractor][\"longlat\"] = []\n",
    "\n",
    "    for i in range(0, len(g_data[tractor][\"datetime\"]), SKIP):\n",
    "        if stamp(g_data[tractor][\"datetime\"][i]) in u_data[tractor][\"stamps\"]:\n",
    "            u_data[tractor][\"longlat\"].append(g_data[tractor][\"longlat\"][i])\n"
   ]
  },
  {
   "cell_type": "code",
   "execution_count": null,
   "metadata": {},
   "outputs": [],
   "source": [
    "import geojson\n",
    "from shapely.geometry import Polygon\n",
    "\n",
    "with open(\"County_Boundaries_of_Indiana_2023.geojson\") as file:\n",
    "    IN_COUNTIES = geojson.load(file)\n",
    "\n",
    "counties = {}\n",
    "for i in range(len(IN_COUNTIES[\"features\"])):\n",
    "    name = IN_COUNTIES[\"features\"][i][\"properties\"][\"name\"]\n",
    "    name = name.split(\" County\")[0]\n",
    "    counties[name] = Polygon(IN_COUNTIES[\"features\"][i][\"geometry\"][\"coordinates\"][0][0])\n"
   ]
  },
  {
   "cell_type": "code",
   "execution_count": null,
   "metadata": {},
   "outputs": [],
   "source": [
    "# Copied from https://stackoverflow.com/a/70533052\n",
    "import numpy as np\n",
    "from matplotlib.collections import PatchCollection\n",
    "from matplotlib.patches import PathPatch\n",
    "from matplotlib.path import Path\n",
    "\n",
    "def plot_polygon(ax, poly, **kwargs):\n",
    "    path = Path.make_compound_path(\n",
    "        Path(np.asarray(poly.exterior.coords)[:, :2]),\n",
    "        *[Path(np.asarray(ring.coords)[:, :2]) for ring in poly.interiors])\n",
    "\n",
    "    patch = PathPatch(path, **kwargs)\n",
    "    collection = PatchCollection([patch], **kwargs)\n",
    "    \n",
    "    ax.add_collection(collection, autolim=True)\n",
    "    ax.autoscale_view()\n",
    "    return collection"
   ]
  },
  {
   "cell_type": "code",
   "execution_count": null,
   "metadata": {},
   "outputs": [],
   "source": [
    "from shapely.geometry import Point\n",
    "\n",
    "# Greedy (but still slow) County Checker\n",
    "def check_county(coords, county):\n",
    "    for point in coords:\n",
    "        if county.contains(Point(point)):\n",
    "            return True\n",
    "    return False\n",
    "\n",
    "# Greedy tractor-county checker\n",
    "def tc_check(dataset, county):\n",
    "    for tractor in dataset:\n",
    "        if check_county(dataset[tractor][\"longlat\"], county):\n",
    "            return True\n",
    "    return False\n"
   ]
  },
  {
   "cell_type": "code",
   "execution_count": null,
   "metadata": {},
   "outputs": [],
   "source": [
    "# Check which counties had which/both sources\n",
    "data_counties = {}\n",
    "for county in counties:\n",
    "    data_counties[county] = \"\"\n",
    "    if tc_check(u_data, counties[county]):\n",
    "        data_counties[county] = \"Both\"\n",
    "    else:\n",
    "        if tc_check(a_data, counties[county]):\n",
    "            data_counties[county] += \"A\"\n",
    "        if tc_check(g_data, counties[county]):\n",
    "            data_counties[county] += \"G\"\n",
    "    \n",
    "    print(f\"{county}: {data_counties[county]}\")\n"
   ]
  },
  {
   "cell_type": "code",
   "execution_count": null,
   "metadata": {},
   "outputs": [],
   "source": [
    "import matplotlib.pyplot as plt\n",
    "import matplotlib.patches as pch\n",
    "\n",
    "fig, ax = plt.subplots()\n",
    "for county in counties:\n",
    "    if data_counties[county] == \"Both\":\n",
    "        plot_polygon(ax, counties[county], facecolor=\"goldenrod\", edgecolor=\"black\")\n",
    "    elif data_counties[county] in [\"A\", \"G\", \"AG\"]:\n",
    "        plot_polygon(ax, counties[county], facecolor=\"silver\", edgecolor=\"black\")\n",
    "    else:\n",
    "        plot_polygon(ax, counties[county], facecolor=\"white\", edgecolor=\"black\")\n",
    "\n",
    "# Create legend\n",
    "gold = pch.Patch(color=\"goldenrod\", label=\"Full Record\")\n",
    "silver = pch.Patch(color=\"silver\", label=\"Partial Record\")\n",
    "fig.legend([gold, silver], [\"Monitored\", \"Partial Data\"], loc=\"upper center\", ncol=2)\n",
    "\n",
    "ax.set_xticklabels(\"\")\n",
    "ax.set_yticklabels(\"\")\n",
    "fig.set_size_inches(6,6)\n",
    "ax.set_aspect(1.0)\n"
   ]
  },
  {
   "cell_type": "code",
   "execution_count": null,
   "metadata": {},
   "outputs": [],
   "source": [
    "x= {}\n",
    "fig = plt.figure()\n",
    "\n",
    "i = 0\n",
    "for tractor in tractors:\n",
    "    # IsoBlue Data\n",
    "    x[tractor] = [unstamp(date) for date in a_data[tractor][\"stamps\"]]\n",
    "    blue = plt.scatter(x[tractor], [i-0.2 for _ in x[tractor]], color=\"cornflowerblue\", linewidths=5, label=\"Telematics\")\n",
    "\n",
    "    # GoPro Data\n",
    "    x[tractor] = [unstamp(date) for date in g_data[tractor][\"stamps\"]]\n",
    "    grey = plt.scatter(x[tractor], [i for _ in x[tractor]], color=\"grey\", linewidths=5, label=\"Camera\")\n",
    "\n",
    "    # Both data\n",
    "    x[tractor] = [unstamp(date) for date in u_data[tractor][\"stamps\"]]\n",
    "    gold = plt.scatter(x[tractor], [i+0.2 for _ in x[tractor]], color=\"goldenrod\", linewidths=5, label=\"Both\")\n",
    "\n",
    "    i += 1\n",
    "\n",
    "bot, top = plt.ylim()\n",
    "red = plt.vlines(maintenance, ymin=bot, ymax=top, colors=\"tab:red\", linestyles=\"dotted\", zorder=0)\n",
    "\n",
    "plt.legend([blue, grey, gold, red], [\"Telematics\", \"Camera\", \"Simultaneous\", \"Maintenance\\nDates\"], bbox_to_anchor=(1,1))\n",
    "inum = [i for i in range(len(x))]\n",
    "plt.yticks(ticks=inum, labels=[f\"Tractor{i+1:02}\" for i in inum])\n",
    "fig.set_size_inches(9,5)\n",
    "plt.xlim(datetime.datetime(2024, 5, 1), datetime.datetime(2024, 10, 31))\n",
    "plt.show()"
   ]
  },
  {
   "cell_type": "code",
   "execution_count": 97,
   "metadata": {},
   "outputs": [
    {
     "name": "stdout",
     "output_type": "stream",
     "text": [
      "CAN ground speed prevented counting 58.6 hours of data\n"
     ]
    },
    {
     "data": {
      "text/plain": [
       "{'Telematics-Only': 132145, 'Camera-Only': 42071, 'Both': 8644}"
      ]
     },
     "execution_count": 97,
     "metadata": {},
     "output_type": "execute_result"
    }
   ],
   "source": [
    "minutes = {\n",
    "    \"Telematics-Only\": 0,\n",
    "    \"Camera-Only\": 0,\n",
    "    \"Both\": 0\n",
    "}\n",
    "nm = 0\n",
    "\n",
    "for tractor in tractors:\n",
    "    for st in inany(a_data[tractor][\"stamps\"], g_data[tractor][\"stamps\"]):\n",
    "        if st in u_data[tractor][\"stamps\"]:\n",
    "            if st not in c_data[tractor][\"speed\"]:\n",
    "                minutes[\"Both\"] += 1\n",
    "            elif c_data[tractor][\"speed\"][st][0] > MIN_SPEED:\n",
    "                minutes[\"Both\"] += 1\n",
    "            else:\n",
    "                nm += 1\n",
    "        elif st in a_data[tractor][\"stamps\"]:\n",
    "            if st not in c_data[tractor][\"speed\"]:\n",
    "                minutes[\"Telematics-Only\"] += 1\n",
    "            elif c_data[tractor][\"speed\"][st][0] > MIN_SPEED:\n",
    "                minutes[\"Telematics-Only\"] += 1\n",
    "            else:\n",
    "                nm += 1\n",
    "        else:\n",
    "            if st not in c_data[tractor][\"speed\"]:\n",
    "                minutes[\"Camera-Only\"] += 1\n",
    "            elif c_data[tractor][\"speed\"][st][0] > MIN_SPEED:\n",
    "                minutes[\"Camera-Only\"] += 1\n",
    "            else:\n",
    "                nm += 1\n",
    "print(f\"CAN ground speed prevented counting {round(nm/60, 1)} hours of data\")\n",
    "minutes\n"
   ]
  },
  {
   "cell_type": "code",
   "execution_count": null,
   "metadata": {},
   "outputs": [],
   "source": [
    "# minutes = {'Telematics-Only': 132145, 'Camera-Only': 42071, 'Both': 8644}\n",
    "hours24 = {\n",
    "    \"Telematics-Only\": minutes[\"Telematics-Only\"]/60,\n",
    "    \"Camera-Only\": minutes[\"Camera-Only\"]/60,\n",
    "    \"Simultaneous\": minutes[\"Both\"]/60\n",
    "}\n",
    "\n",
    "# from unify_gps.ipynb:\n",
    "hours23 = {'Telematics-Only': 1425.55,\n",
    " 'Camera-Only': 64.58333333333333,\n",
    " 'Simultaneous': 27.833333333333332}\n"
   ]
  },
  {
   "cell_type": "code",
   "execution_count": 26,
   "metadata": {},
   "outputs": [
    {
     "data": {
      "image/png": "[encoded data removed]",
      "text/plain": [
       "<Figure size 576x216 with 1 Axes>"
      ]
     },
     "metadata": {
      "needs_background": "light"
     },
     "output_type": "display_data"
    }
   ],
   "source": [
    "import matplotlib.pyplot as plt\n",
    "import numpy as np\n",
    "\n",
    "plt.figure(figsize=(8,3))\n",
    "\n",
    "# Plot hours of recordings for each year\n",
    "bar_width = 0.4\n",
    "xx = np.arange(len(hours23))\n",
    "plt.barh(xx, [hours23[i] for i in hours23], bar_width, label=\"2023\", color=\"black\")\n",
    "plt.barh(xx-bar_width, [hours24[i] for i in hours24], bar_width, label=\"2024\", color=\"goldenrod\")\n",
    "plt.legend()\n",
    "plt.xlabel(\"Hours of Recordings\")\n",
    "plt.yticks(xx-(bar_width/2), labels=list(hours23.keys()), rotation=30)\n",
    "\n",
    "# Add percent change annotations\n",
    "b0 = 0\n",
    "for i in hours24:\n",
    "    plt.annotate(f\"+{round(100*((hours24[i]/hours23[i])-1))}%\",\n",
    "                   (hours24[i], xx[b0]-bar_width/3), ha=\"center\")\n",
    "    b0 += 1\n",
    "\n"
   ]
  },
  {
   "cell_type": "code",
   "execution_count": 27,
   "metadata": {},
   "outputs": [
    {
     "data": {
      "image/png": "[encoded data removed]",
      "text/plain": [
       "<Figure size 648x180 with 1 Axes>"
      ]
     },
     "metadata": {
      "needs_background": "light"
     },
     "output_type": "display_data"
    }
   ],
   "source": [
    "total24 = sum(hours24.values())\n",
    "total23 = sum(hours23.values())\n",
    "\n",
    "plt.figure(figsize=(9,2.5))\n",
    "cc = {\n",
    "    'Telematics-Only': \"black\",\n",
    "    'Camera-Only': \"grey\",\n",
    "    'Simultaneous': \"goldenrod\"\n",
    "}\n",
    "\n",
    "# Prepare + plot stacked bars\n",
    "co = {}\n",
    "b1, b0 = 0, 0\n",
    "H = 1.8*bar_width\n",
    "for i in hours23:\n",
    "    co[i] = plt.barh(H, 100*hours23[i]/total23, bar_width, left=b1, color=cc[i])\n",
    "    plt.barh(0, 100*hours24[i]/total24, bar_width, left=b0, color=cc[i])\n",
    "    b1 += 100*hours23[i]/total23\n",
    "    b0 += 100*hours24[i]/total24\n",
    "    \n",
    "plt.legend(co.values(), co.keys(), ncols=3, loc=\"upper center\")\n",
    "plt.xlabel(\"Relative Frequency (%)\")\n",
    "plt.xlim(0,100)\n",
    "plt.yticks([H,0], labels=[\"2023\", \"2024\"])\n",
    "plt.ylim(0-bar_width, 1.9*H)\n",
    "plt.show()"
   ]
  }
 ],
 "metadata": {
  "kernelspec": {
   "display_name": "Python 3",
   "language": "python",
   "name": "python3"
  },
  "language_info": {
   "codemirror_mode": {
    "name": "ipython",
    "version": 3
   },
   "file_extension": ".py",
   "mimetype": "text/x-python",
   "name": "python",
   "nbconvert_exporter": "python",
   "pygments_lexer": "ipython3",
   "version": "3.10.12"
  }
 },
 "nbformat": 4,
 "nbformat_minor": 2
}
