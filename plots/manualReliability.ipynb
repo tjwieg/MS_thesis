{
 "cells": [
  {
   "cell_type": "code",
   "execution_count": 1,
   "metadata": {},
   "outputs": [],
   "source": [
    "import matplotlib.pyplot as mpl\n",
    "import matplotlib.ticker as ticker\n",
    "import os, json, haversine\n",
    "from dateutil import parser"
   ]
  },
  {
   "cell_type": "code",
   "execution_count": 2,
   "metadata": {},
   "outputs": [],
   "source": [
    "# cd into manual testing data directory\n",
    "os.chdir(\"../../INDOT/manual-gps\")\n",
    "\n",
    "# import results as dict of dicts\n",
    "results = {}\n",
    "for mode in os.listdir():\n",
    "    results[mode] = {}\n",
    "    for trial in os.listdir(mode):\n",
    "        results[mode][trial] = json.load(open(os.path.join(mode,trial)))\n"
   ]
  },
  {
   "cell_type": "code",
   "execution_count": 3,
   "metadata": {},
   "outputs": [
    {
     "data": {
      "text/plain": [
       "[{'frame': 0,\n",
       "  'cam_gps': {'lat': '40.4220789', 'lon': '-86.9105216'},\n",
       "  'gps_time': '2024-02-27T19:25:19.015000Z'},\n",
       " {'frame': 1,\n",
       "  'cam_gps': {'lat': '40.422084', 'lon': '-86.9104769'},\n",
       "  'gps_time': '2024-02-27T19:25:21.270000Z'},\n",
       " {'frame': 2,\n",
       "  'cam_gps': {'lat': '40.4220915', 'lon': '-86.9104494'},\n",
       "  'gps_time': '2024-02-27T19:25:22.260000Z'}]"
      ]
     },
     "execution_count": 3,
     "metadata": {},
     "output_type": "execute_result"
    }
   ],
   "source": [
    "# Sanity check / show example\n",
    "list(results[\"Bicycle\"].values())[0][0:3]"
   ]
  },
  {
   "cell_type": "code",
   "execution_count": 4,
   "metadata": {},
   "outputs": [
    {
     "data": {
      "text/plain": [
       "{'minutes': {'Automobile': 416.12910000000005,\n",
       "  'Bicycle': 34.666638883333334,\n",
       "  'Walk': 10.683925916666668},\n",
       " 'kilometers': {'Automobile': 92.84290846949476,\n",
       "  'Bicycle': 2.459298726506346,\n",
       "  'Walk': 1.0551420146183272}}"
      ]
     },
     "execution_count": 4,
     "metadata": {},
     "output_type": "execute_result"
    }
   ],
   "source": [
    "confirmed = {\n",
    "    \"minutes\" : {},\n",
    "    \"kilometers\": {}\n",
    "}\n",
    "\n",
    "for mode in results:\n",
    "    time = 0\n",
    "    dist = 0\n",
    "    for trial in results[mode]:\n",
    "        start = parser.isoparse(results[mode][trial][0][\"gps_time\"])\n",
    "        end = parser.isoparse(results[mode][trial][-1][\"gps_time\"])\n",
    "        \n",
    "        duration = end - start\n",
    "        duration = duration.total_seconds()\n",
    "        \n",
    "        if start.year > 2022: # ignore if GPS not tracked at beginning\n",
    "            time += duration\n",
    "        elif duration < 60*60*10: # unless GPS was NEVER tracked\n",
    "            time += duration\n",
    "\n",
    "        trialdistance = 0\n",
    "        for i in range(1,len(results[mode][trial])):\n",
    "            p1 = results[mode][trial][i-1][\"cam_gps\"]\n",
    "            p2 = results[mode][trial][i][\"cam_gps\"]\n",
    "            dd = haversine.haversine(\n",
    "                point1=(float(p1[\"lat\"]), float(p1[\"lon\"])),\n",
    "                point2=(float(p2[\"lat\"]), float(p2[\"lon\"])),\n",
    "                unit=haversine.Unit.METERS\n",
    "            )\n",
    "            trialdistance += dd\n",
    "        if mode != \"Car\":\n",
    "            if trialdistance/1000 > 50: pass # ignore bike/foot trips over 50km\n",
    "            else: dist += trialdistance\n",
    "        else:\n",
    "            if trialdistance/1000 > 250: pass # ignore car trips over 250km\n",
    "            else: dist += trialdistance\n",
    "    \n",
    "    confirmed[\"minutes\"][mode] = time/60\n",
    "    confirmed[\"kilometers\"][mode] = dist/1000\n",
    "\n",
    "confirmed"
   ]
  },
  {
   "cell_type": "code",
   "execution_count": 11,
   "metadata": {},
   "outputs": [
    {
     "data": {
      "image/png": "[encoded data removed]",
      "text/plain": [
       "<Figure size 576x288 with 1 Axes>"
      ]
     },
     "metadata": {
      "needs_background": "light"
     },
     "output_type": "display_data"
    }
   ],
   "source": [
    "fig, axs = mpl.subplots(figsize=(8,4))\n",
    "x = [i for i in range(len(results))]\n",
    "timedata = list(confirmed[\"minutes\"].values())\n",
    "distdata = list(confirmed[\"kilometers\"].values())\n",
    "\n",
    "# Prepare axes\n",
    "axs.set_yscale(\"log\")\n",
    "axs.yaxis.set_major_formatter(ticker.ScalarFormatter())\n",
    "axs.grid(visible=True, which=\"major\", axis=\"y\")\n",
    "axs.grid(visible=True, which=\"minor\", axis=\"y\", linestyle=\":\")\n",
    "axs.set_axisbelow(True)\n",
    "\n",
    "# Plot data\n",
    "bar_width = 0.3\n",
    "timebar = axs.bar([i-0.15 for i in x], timedata, width=bar_width, color=\"tab:blue\")\n",
    "distbar = axs.bar([i+0.15 for i in x], distdata, width=bar_width, color=\"coral\")\n",
    "\n",
    "# Add labels\n",
    "timebar.set_label(\"Time (minutes)\")\n",
    "distbar.set_label(\"Distance (km)\")\n",
    "mpl.legend()\n",
    "axs.set_xticks(ticks=x, labels=list(confirmed[\"minutes\"].keys()),)\n",
    "\n",
    "os.chdir(\"../../thesis/img\")\n",
    "mpl.savefig(\"manual_results.png\", dpi=600)\n",
    "mpl.show()"
   ]
  }
 ],
 "metadata": {
  "kernelspec": {
   "display_name": "Python 3",
   "language": "python",
   "name": "python3"
  },
  "language_info": {
   "codemirror_mode": {
    "name": "ipython",
    "version": 3
   },
   "file_extension": ".py",
   "mimetype": "text/x-python",
   "name": "python",
   "nbconvert_exporter": "python",
   "pygments_lexer": "ipython3",
   "version": "3.10.12"
  }
 },
 "nbformat": 4,
 "nbformat_minor": 2
}
