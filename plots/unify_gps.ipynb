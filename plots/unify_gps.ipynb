{
 "cells": [
  {
   "cell_type": "code",
   "execution_count": 31,
   "metadata": {},
   "outputs": [],
   "source": [
    "apalis = {\n",
    "    \"alpha\": [\"/home/tjw/Downloads/apalis/GPS-alpha01.csv\", \"/home/tjw/Downloads/apalis/GPS-alpha02.csv\", \"/home/tjw/Downloads/apalis/GPS-zeta01.csv\", \"/home/tjw/Downloads/apalis/GPS-zeta02.csv\", \"/home/tjw/Downloads/apalis/GPS-zeta03.csv\"],\n",
    "    \"beta\": [\"/home/tjw/Downloads/apalis/GPS-beta01.csv\", \"/home/tjw/Downloads/apalis/GPS-eta02.csv\"],\n",
    "    \"gamma\": [\"/home/tjw/Downloads/apalis/GPS-gamma01.csv\"],\n",
    "    \"delta\": [\"/home/tjw/Downloads/apalis/GPS-delta01.csv\"],\n",
    "    \"epsilon\": [],\n",
    "    #\"zeta\": [],\n",
    "    #\"eta\": []\n",
    "}\n",
    "\n",
    "gopro = {\n",
    "    \"alpha\": [\"/home/tjw/Documents/gopro/alpha_json\", \"/home/tjw/Documents/gopro/zeta_json\"],\n",
    "    \"beta\": [\"/home/tjw/Documents/gopro/beta_json\", \"/home/tjw/Documents/gopro/eta_json\"],\n",
    "    \"gamma\": [\"/home/tjw/Documents/gopro/gamma_json\"],\n",
    "    \"delta\": [\"/home/tjw/Documents/gopro/delta_json\"],\n",
    "    \"epsilon\": [\"/home/tjw/Documents/gopro/epsilon_json\"],\n",
    "    #\"zeta\": [],\n",
    "    #\"eta\": []\n",
    "}\n"
   ]
  },
  {
   "cell_type": "code",
   "execution_count": 32,
   "metadata": {},
   "outputs": [],
   "source": [
    "from datetime import datetime\n",
    "\n",
    "def stamp(dt):\n",
    "    return f\"{dt.date()}_{dt.hour:02}:{dt.minute:02}\"\n",
    "\n",
    "def unstamp(st):\n",
    "    date, time = st.split(\"_\")\n",
    "    yy,mm,dd = date.split(\"-\")\n",
    "    hh,mn = time.split(\":\")\n",
    "    return datetime(\n",
    "        year=int(yy), month=int(mm), day=int(dd),\n",
    "        hour=int(hh), minute=int(mn)\n",
    "    )"
   ]
  },
  {
   "cell_type": "code",
   "execution_count": 24,
   "metadata": {},
   "outputs": [],
   "source": [
    "from dateutil import parser\n",
    "\n",
    "a_data = {}\n",
    "SKIP = 5\n",
    "\n",
    "for tractor in apalis:\n",
    "    a_data[tractor] = {\"datetime\":[], \"longlat\":[], \"stamps\": []}\n",
    "    for csv in apalis[tractor]:\n",
    "        with open(csv) as file:\n",
    "            i = 0\n",
    "            for line in file.readlines()[1:]:\n",
    "                i += 1\n",
    "                if i % SKIP == 0:\n",
    "                    time, lat, lng = line.split(\",\")\n",
    "                    time = parser.isoparse(time)\n",
    "                    a_data[tractor][\"datetime\"].append(time)\n",
    "                    a_data[tractor][\"longlat\"].append((float(lng.rstrip()), float(lat)))\n",
    "                    \n",
    "                    if stamp(time) not in a_data[tractor][\"stamps\"]:\n",
    "                        a_data[tractor][\"stamps\"].append(stamp(time))\n"
   ]
  },
  {
   "cell_type": "code",
   "execution_count": 129,
   "metadata": {},
   "outputs": [],
   "source": [
    "def goproParse(jsondata):\n",
    "    gps = []\n",
    "    times = []\n",
    "    stamps = []\n",
    "    for frame in jsondata:\n",
    "        time = parser.isoparse(frame[\"gps_time\"])\n",
    "        if time.year == 2023:\n",
    "            times.append(time)\n",
    "            stamps.append(stamp(time))\n",
    "            lon = frame[\"cam_gps\"][\"lon\"]\n",
    "            lat = frame[\"cam_gps\"][\"lat\"]\n",
    "            gps.append((lon,lat))\n",
    "    return (times, gps, stamps)"
   ]
  },
  {
   "cell_type": "code",
   "execution_count": 130,
   "metadata": {},
   "outputs": [],
   "source": [
    "import json, os\n",
    "g_data = {}\n",
    "for tractor in gopro:\n",
    "    g_data[tractor] = {\"datetime\":[], \"longlat\":[], \"stamps\":[]}\n",
    "    for folder in gopro[tractor]:\n",
    "        for file in os.listdir(folder):\n",
    "            if \"metadata\" not in file:\n",
    "                with open(os.path.join(folder, file)) as file:\n",
    "                    times, gps, stamps = goproParse(json.load(file))\n",
    "                    g_data[tractor][\"longlat\"] += (gps)\n",
    "                    g_data[tractor][\"datetime\"] += times\n",
    "\n",
    "                    for st in stamps:\n",
    "                        if st not in g_data[tractor][\"stamps\"]:\n",
    "                            g_data[tractor][\"stamps\"].append(st)\n"
   ]
  },
  {
   "cell_type": "code",
   "execution_count": 131,
   "metadata": {},
   "outputs": [],
   "source": [
    "def same(x1, x2): # return intersection of two lists\n",
    "    output = []\n",
    "    for x in x1:\n",
    "        if x in x2:\n",
    "            output.append(x)\n",
    "    return output\n",
    "\n",
    "def inany(x1, x2): # return union of two lists\n",
    "    output = [x for x in x1]\n",
    "    for x in x2:\n",
    "        if x not in output:\n",
    "            output.append(x)\n",
    "    return output\n"
   ]
  },
  {
   "cell_type": "code",
   "execution_count": 132,
   "metadata": {},
   "outputs": [
    {
     "name": "stdout",
     "output_type": "stream",
     "text": [
      "['alpha', 'beta', 'gamma', 'delta', 'epsilon']\n"
     ]
    }
   ],
   "source": [
    "tractors = same(gopro, apalis)\n",
    "\n",
    "print(tractors)"
   ]
  },
  {
   "cell_type": "code",
   "execution_count": 133,
   "metadata": {},
   "outputs": [],
   "source": [
    "# a_stamps = {}\n",
    "# g_stamps = {}\n",
    "# for tractor in tractors:\n",
    "#     a_stamps[tractor] = []\n",
    "#     for dt in a_data[tractor][\"datetime\"]:\n",
    "#         if stamp(dt) not in a_stamps[tractor]:\n",
    "#             a_stamps[tractor].append(stamp(dt))\n",
    "    \n",
    "#     g_stamps[tractor] = []\n",
    "#     for dt in g_data[tractor][\"datetime\"]:\n",
    "#         if stamp(dt) not in g_stamps[tractor]:\n",
    "#             g_stamps[tractor].append(stamp(dt))\n"
   ]
  },
  {
   "cell_type": "code",
   "execution_count": 134,
   "metadata": {},
   "outputs": [],
   "source": [
    "u_data = {}\n",
    "\n",
    "for tractor in tractors:\n",
    "    u_data[tractor] = {}\n",
    "    u_data[tractor][\"stamps\"] = same(a_data[tractor][\"stamps\"], g_data[tractor][\"stamps\"])\n",
    "    u_data[tractor][\"longlat\"] = []\n",
    "\n",
    "    for i in range(0, len(g_data[tractor][\"datetime\"]), SKIP):\n",
    "        if stamp(g_data[tractor][\"datetime\"][i]) in u_data[tractor][\"stamps\"]:\n",
    "            u_data[tractor][\"longlat\"].append(g_data[tractor][\"longlat\"][i])\n"
   ]
  },
  {
   "cell_type": "code",
   "execution_count": 135,
   "metadata": {},
   "outputs": [],
   "source": [
    "import geojson\n",
    "from shapely.geometry import Polygon\n",
    "\n",
    "with open(\"County_Boundaries_of_Indiana_2023.geojson\") as file:\n",
    "    IN_COUNTIES = geojson.load(file)\n",
    "\n",
    "counties = {}\n",
    "for i in range(len(IN_COUNTIES[\"features\"])):\n",
    "    name = IN_COUNTIES[\"features\"][i][\"properties\"][\"name\"]\n",
    "    name = name.split(\" County\")[0]\n",
    "    counties[name] = Polygon(IN_COUNTIES[\"features\"][i][\"geometry\"][\"coordinates\"][0][0])\n"
   ]
  },
  {
   "cell_type": "code",
   "execution_count": 136,
   "metadata": {},
   "outputs": [],
   "source": [
    "# Copied from https://stackoverflow.com/a/70533052\n",
    "import numpy as np\n",
    "from matplotlib.collections import PatchCollection\n",
    "from matplotlib.patches import PathPatch\n",
    "from matplotlib.path import Path\n",
    "\n",
    "def plot_polygon(ax, poly, **kwargs):\n",
    "    path = Path.make_compound_path(\n",
    "        Path(np.asarray(poly.exterior.coords)[:, :2]),\n",
    "        *[Path(np.asarray(ring.coords)[:, :2]) for ring in poly.interiors])\n",
    "\n",
    "    patch = PathPatch(path, **kwargs)\n",
    "    collection = PatchCollection([patch], **kwargs)\n",
    "    \n",
    "    ax.add_collection(collection, autolim=True)\n",
    "    ax.autoscale_view()\n",
    "    return collection"
   ]
  },
  {
   "cell_type": "code",
   "execution_count": 137,
   "metadata": {},
   "outputs": [],
   "source": [
    "from shapely.geometry import Point\n",
    "\n",
    "# Greedy (but still slow) County Checker\n",
    "def check_county(coords, county):\n",
    "    for point in coords:\n",
    "        if county.contains(Point(point)):\n",
    "            return True\n",
    "    return False\n",
    "\n",
    "# Greedy tractor-county checker\n",
    "def tc_check(dataset, county):\n",
    "    for tractor in dataset:\n",
    "        if check_county(dataset[tractor][\"longlat\"], county):\n",
    "            return True\n",
    "    return False\n"
   ]
  },
  {
   "cell_type": "code",
   "execution_count": 138,
   "metadata": {},
   "outputs": [
    {
     "name": "stdout",
     "output_type": "stream",
     "text": [
      "Adams: Both\n",
      "Allen: Both\n",
      "Blackford: Both\n",
      "Boone: A\n",
      "Brown: G\n",
      "Carroll: \n",
      "Clark: G\n",
      "Daviess: A\n",
      "Dekalb: G\n",
      "Delaware: AG\n",
      "Dubois: A\n",
      "Elkhart: G\n",
      "Fayette: G\n",
      "Fountain: \n",
      "Franklin: Both\n",
      "Fulton: Both\n",
      "Gibson: \n",
      "Greene: A\n",
      "Hamilton: Both\n",
      "Hancock: \n",
      "Henry: G\n",
      "Jackson: Both\n",
      "Jasper: Both\n",
      "Jefferson: G\n",
      "Jennings: Both\n",
      "Knox: \n",
      "Kosciusko: Both\n",
      "Lake: Both\n",
      "Laporte: AG\n",
      "Madison: Both\n",
      "Marion: Both\n",
      "Montgomery: \n",
      "Newton: Both\n",
      "Noble: Both\n",
      "Ohio: \n",
      "Owen: \n",
      "Parke: \n",
      "Perry: \n",
      "Pike: \n",
      "Porter: Both\n",
      "Posey: \n",
      "Pulaski: AG\n",
      "Putnam: \n",
      "Randolph: AG\n",
      "Ripley: \n",
      "Rush: G\n",
      "St Joseph: AG\n",
      "Scott: G\n",
      "Shelby: \n",
      "Spencer: \n",
      "Starke: AG\n",
      "Sullivan: \n",
      "Switzerland: \n",
      "Tippecanoe: \n",
      "Tipton: AG\n",
      "Union: \n",
      "Vanderburgh: \n",
      "Vermillion: \n",
      "Vigo: \n",
      "Warren: G\n",
      "Warrick: Both\n",
      "Washington: A\n",
      "Wayne: \n",
      "Bartholomew: \n",
      "Benton: G\n",
      "Cass: AG\n",
      "Clay: \n",
      "Crawford: A\n",
      "Clinton: \n",
      "Dearborn: \n",
      "Decatur: Both\n",
      "Floyd: \n",
      "Grant: Both\n",
      "Hendricks: \n",
      "Harrison: \n",
      "Howard: Both\n",
      "Huntington: Both\n",
      "Johnson: AG\n",
      "Jay: Both\n",
      "Lagrange: G\n",
      "Lawrence: Both\n",
      "Miami: Both\n",
      "Monroe: AG\n",
      "Morgan: A\n",
      "Martin: Both\n",
      "Marshall: Both\n",
      "Orange: Both\n",
      "Steuben: AG\n",
      "Wabash: Both\n",
      "White: AG\n",
      "Whitley: Both\n",
      "Wells: Both\n"
     ]
    }
   ],
   "source": [
    "# Check which counties had which/both sources\n",
    "data_counties = {}\n",
    "for county in counties:\n",
    "    data_counties[county] = \"\"\n",
    "    if tc_check(u_data, counties[county]):\n",
    "        data_counties[county] = \"Both\"\n",
    "    else:\n",
    "        if tc_check(a_data, counties[county]):\n",
    "            data_counties[county] += \"A\"\n",
    "        if tc_check(g_data, counties[county]):\n",
    "            data_counties[county] += \"G\"\n",
    "    \n",
    "    print(f\"{county}: {data_counties[county]}\")\n"
   ]
  },
  {
   "cell_type": "code",
   "execution_count": 139,
   "metadata": {},
   "outputs": [
    {
     "data": {
      "image/png": "[encoded data removed]",
      "text/plain": [
       "<Figure size 432x432 with 1 Axes>"
      ]
     },
     "metadata": {
      "needs_background": "light"
     },
     "output_type": "display_data"
    }
   ],
   "source": [
    "import matplotlib.pyplot as plt\n",
    "import matplotlib.patches as pch\n",
    "\n",
    "fig, ax = plt.subplots()\n",
    "for county in counties:\n",
    "    if data_counties[county] == \"Both\":\n",
    "        plot_polygon(ax, counties[county], facecolor=\"goldenrod\", edgecolor=\"black\")\n",
    "    elif data_counties[county] in [\"A\", \"G\", \"AG\"]:\n",
    "        plot_polygon(ax, counties[county], facecolor=\"silver\", edgecolor=\"black\")\n",
    "    else:\n",
    "        plot_polygon(ax, counties[county], facecolor=\"white\", edgecolor=\"black\")\n",
    "\n",
    "# Create legend\n",
    "gold = pch.Patch(color=\"goldenrod\", label=\"Full Record\")\n",
    "silver = pch.Patch(color=\"silver\", label=\"Partial Record\")\n",
    "fig.legend([gold, silver], [\"Monitored\", \"Partial Data\"], loc=\"upper center\", ncol=2)\n",
    "\n",
    "ax.set_xticklabels(\"\")\n",
    "ax.set_yticklabels(\"\")\n",
    "fig.set_size_inches(6,6)\n",
    "ax.set_aspect(1.0)\n"
   ]
  },
  {
   "cell_type": "code",
   "execution_count": 140,
   "metadata": {},
   "outputs": [
    {
     "data": {
      "image/png": "[encoded data removed]",
      "text/plain": [
       "<Figure size 648x360 with 1 Axes>"
      ]
     },
     "metadata": {
      "needs_background": "light"
     },
     "output_type": "display_data"
    }
   ],
   "source": [
    "x= {}\n",
    "fig = plt.figure()\n",
    "\n",
    "i = 0\n",
    "for tractor in tractors:\n",
    "    # IsoBlue Data\n",
    "    x[tractor] = [unstamp(date) for date in a_data[tractor][\"stamps\"]]\n",
    "    blue = plt.scatter(x[tractor], [i-0.2 for _ in x[tractor]], color=\"cornflowerblue\", linewidths=5, label=\"Telematics\")\n",
    "\n",
    "    # GoPro Data\n",
    "    x[tractor] = [unstamp(date) for date in g_data[tractor][\"stamps\"]]\n",
    "    grey = plt.scatter(x[tractor], [i for _ in x[tractor]], color=\"grey\", linewidths=5, label=\"Camera\")\n",
    "\n",
    "    # Both data\n",
    "    x[tractor] = [unstamp(date) for date in u_data[tractor][\"stamps\"]]\n",
    "    gold = plt.scatter(x[tractor], [i+0.2 for _ in x[tractor]], color=\"goldenrod\", linewidths=5, label=\"Both\")\n",
    "\n",
    "    i += 1\n",
    "\n",
    "plt.legend([blue, grey, gold], [\"Telematics\", \"Camera\", \"Both\"])\n",
    "inum = [i for i in range(len(x))]\n",
    "plt.yticks(ticks=inum, labels=[f\"Tractor{i+1:02}\" for i in inum])\n",
    "fig.set_size_inches(9,5)\n",
    "plt.xlim(datetime(2023, 5, 1), datetime(2023, 10, 31))\n",
    "plt.show()"
   ]
  }
 ],
 "metadata": {
  "kernelspec": {
   "display_name": "Python 3",
   "language": "python",
   "name": "python3"
  },
  "language_info": {
   "codemirror_mode": {
    "name": "ipython",
    "version": 3
   },
   "file_extension": ".py",
   "mimetype": "text/x-python",
   "name": "python",
   "nbconvert_exporter": "python",
   "pygments_lexer": "ipython3",
   "version": "3.10.12"
  }
 },
 "nbformat": 4,
 "nbformat_minor": 2
}
